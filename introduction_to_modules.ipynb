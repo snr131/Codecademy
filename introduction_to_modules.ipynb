{
  "nbformat": 4,
  "nbformat_minor": 0,
  "metadata": {
    "colab": {
      "name": "introduction_to_modules.ipynb",
      "provenance": [],
      "collapsed_sections": [],
      "authorship_tag": "ABX9TyNfDnqh8huyH3bnLAEBpp/r",
      "include_colab_link": true
    },
    "kernelspec": {
      "name": "python3",
      "display_name": "Python 3"
    }
  },
  "cells": [
    {
      "cell_type": "markdown",
      "metadata": {
        "id": "view-in-github",
        "colab_type": "text"
      },
      "source": [
        "<a href=\"https://colab.research.google.com/github/snr131/Codecademy/blob/Python-basics/introduction_to_modules.ipynb\" target=\"_parent\"><img src=\"https://colab.research.google.com/assets/colab-badge.svg\" alt=\"Open In Colab\"/></a>"
      ]
    },
    {
      "cell_type": "code",
      "metadata": {
        "colab": {
          "base_uri": "https://localhost:8080/"
        },
        "id": "4W_K_N220cbo",
        "outputId": "64104de4-dff0-46b6-e6ce-0a765fc00812"
      },
      "source": [
        "# I do not need the entire datetime package, so I am selecting to import only the datetime module from the datetime package\r\n",
        "from datetime import datetime\r\n",
        "# I am assigning a variable to call the current time\r\n",
        "current_time = datetime.now()\r\n",
        "print(current_time)"
      ],
      "execution_count": 1,
      "outputs": [
        {
          "output_type": "stream",
          "text": [
            "2021-02-05 19:16:29.889226\n"
          ],
          "name": "stdout"
        }
      ]
    },
    {
      "cell_type": "code",
      "metadata": {
        "colab": {
          "base_uri": "https://localhost:8080/"
        },
        "id": "dML2BDp_0pP3",
        "outputId": "ddbc7b39-9f01-47ed-e23e-7cb6fd277b9d"
      },
      "source": [
        "# I will be using a few modules from the random package, so I am choosing the import the entire package\r\n",
        "import random\r\n",
        "# Create a variable random_list and set it equal to an empty list\r\n",
        "random_list = []\r\n",
        "# Turn the empty list into a list comprehension that uses random.randint() to generate a random integer between 1 and 100 (inclusive) for each number in range(101)\r\n",
        "random_list = [random.randint(1,101) for i in list(range(101))]\r\n",
        "print(random_list)"
      ],
      "execution_count": 2,
      "outputs": [
        {
          "output_type": "stream",
          "text": [
            "[25, 55, 86, 24, 2, 40, 54, 6, 55, 14, 51, 20, 32, 98, 66, 55, 38, 42, 87, 20, 66, 11, 21, 48, 49, 31, 31, 72, 9, 93, 79, 31, 16, 36, 55, 93, 44, 84, 20, 45, 54, 70, 100, 59, 54, 7, 39, 93, 74, 97, 6, 72, 51, 92, 12, 71, 67, 91, 53, 32, 32, 74, 93, 74, 90, 94, 46, 38, 45, 28, 36, 61, 51, 41, 2, 83, 55, 53, 101, 22, 87, 37, 18, 9, 59, 56, 94, 21, 10, 78, 27, 5, 78, 74, 56, 78, 15, 28, 30, 69, 96]\n"
          ],
          "name": "stdout"
        }
      ]
    },
    {
      "cell_type": "code",
      "metadata": {
        "colab": {
          "base_uri": "https://localhost:8080/"
        },
        "id": "1oDw8vwLx4t4",
        "outputId": "e21475a9-f72b-435b-d29e-a52412711437"
      },
      "source": [
        "# Create randomer_number below:\r\n",
        "randomer_number = random.choice(random_list)\r\n",
        "print(randomer_number)"
      ],
      "execution_count": 3,
      "outputs": [
        {
          "output_type": "stream",
          "text": [
            "72\n"
          ],
          "name": "stdout"
        }
      ]
    },
    {
      "cell_type": "code",
      "metadata": {
        "colab": {
          "base_uri": "https://localhost:8080/",
          "height": 267
        },
        "id": "QjXcPLmGyndr",
        "outputId": "155b4e50-3a90-4c9c-a4e2-2427993a084a"
      },
      "source": [
        "# Use function random.sample() that takes a range and a number as its arguments. It will return the specified number of random numbers from that range\r\n",
        "# Below import seaborn, import pyplot from the module matplotlib with the alias plt, import random below the other import statements, it’s best to keep all imports at the top of your file\r\n",
        "import seaborn as sns\r\n",
        "from matplotlib import pyplot as plt\r\n",
        "import random\r\n",
        "# Create a variable numbers_a and set it equal to the range of numbers 1 through 12 (inclusive)\r\n",
        "numbers_a = range(1, 13)\r\n",
        "# Create a variable numbers_b and set it equal to a random sample of twelve numbers within range(1000)\r\n",
        "numbers_b = random.sample(range(1000), 12)\r\n",
        "# Now let’s plot these number sets against each other using plt \r\n",
        "# Call plt.plot() with your two variables as its arguments\r\n",
        "plt.plot(numbers_a, numbers_b)\r\n",
        "plt.show()"
      ],
      "execution_count": 4,
      "outputs": [
        {
          "output_type": "display_data",
          "data": {
            "image/png": "[encoded data removed]",
            "text/plain": [
              "<Figure size 432x288 with 1 Axes>"
            ]
          },
          "metadata": {
            "tags": [],
            "needs_background": "light"
          }
        }
      ]
    },
    {
      "cell_type": "markdown",
      "metadata": {
        "id": "tHS-OZNS1t0v"
      },
      "source": [
        "Decimal"
      ]
    },
    {
      "cell_type": "code",
      "metadata": {
        "colab": {
          "base_uri": "https://localhost:8080/"
        },
        "id": "OmvZ6sQKzWm9",
        "outputId": "26618eab-18d2-4e5d-bb83-5032122c7725"
      },
      "source": [
        "cost_of_gum = 0.10\r\n",
        "cost_of_gumdrop = 0.35\r\n",
        "cost_of_transaction = cost_of_gum + cost_of_gumdrop\r\n",
        "print(cost_of_transaction)"
      ],
      "execution_count": 5,
      "outputs": [
        {
          "output_type": "stream",
          "text": [
            "0.44999999999999996\n"
          ],
          "name": "stdout"
        }
      ]
    },
    {
      "cell_type": "code",
      "metadata": {
        "colab": {
          "base_uri": "https://localhost:8080/"
        },
        "id": "qMowunTN2BIh",
        "outputId": "69f31d8d-b1ff-4f34-f493-3af5ff091947"
      },
      "source": [
        "from decimal import Decimal\r\n",
        "cost_of_gum = Decimal('0.10')\r\n",
        "cost_of_gumdrop = Decimal('0.35')\r\n",
        "cost_of_transaction = cost_of_gum + cost_of_gumdrop\r\n",
        "print(cost_of_transaction)"
      ],
      "execution_count": 6,
      "outputs": [
        {
          "output_type": "stream",
          "text": [
            "0.45\n"
          ],
          "name": "stdout"
        }
      ]
    },
    {
      "cell_type": "code",
      "metadata": {
        "colab": {
          "base_uri": "https://localhost:8080/"
        },
        "id": "pU56JCrm2XYr",
        "outputId": "05d0ee81-29e7-4446-eb79-ed19d2a2e82f"
      },
      "source": [
        "two_decimal_points = Decimal('0.2') + Decimal('0.69')\r\n",
        "print(two_decimal_points)"
      ],
      "execution_count": 7,
      "outputs": [
        {
          "output_type": "stream",
          "text": [
            "0.89\n"
          ],
          "name": "stdout"
        }
      ]
    },
    {
      "cell_type": "code",
      "metadata": {
        "colab": {
          "base_uri": "https://localhost:8080/"
        },
        "id": "7G77NIYg20R8",
        "outputId": "78ce9749-f488-4850-e71d-dd5793308847"
      },
      "source": [
        "four_decimal_points = Decimal('0.53') * Decimal('0.65')\r\n",
        "print(four_decimal_points)"
      ],
      "execution_count": 8,
      "outputs": [
        {
          "output_type": "stream",
          "text": [
            "0.3445\n"
          ],
          "name": "stdout"
        }
      ]
    },
    {
      "cell_type": "markdown",
      "metadata": {
        "id": "56htyZMJov3G"
      },
      "source": [
        "datetime"
      ]
    },
    {
      "cell_type": "code",
      "metadata": {
        "colab": {
          "base_uri": "https://localhost:8080/"
        },
        "id": "FZvcVysF25Is",
        "outputId": "303cb8a5-a86b-4f9c-8c4e-425e965175f1"
      },
      "source": [
        "from datetime import datetime\r\n",
        "birthday = datetime(2018, 6, 12, 11, 20, 0)\r\n",
        "birthday.year"
      ],
      "execution_count": 9,
      "outputs": [
        {
          "output_type": "execute_result",
          "data": {
            "text/plain": [
              "2018"
            ]
          },
          "metadata": {
            "tags": []
          },
          "execution_count": 9
        }
      ]
    },
    {
      "cell_type": "code",
      "metadata": {
        "colab": {
          "base_uri": "https://localhost:8080/"
        },
        "id": "R-3GOid7H_FT",
        "outputId": "965b2846-b67a-4de6-ae10-adfb0997289f"
      },
      "source": [
        "birthday.month"
      ],
      "execution_count": 10,
      "outputs": [
        {
          "output_type": "execute_result",
          "data": {
            "text/plain": [
              "6"
            ]
          },
          "metadata": {
            "tags": []
          },
          "execution_count": 10
        }
      ]
    },
    {
      "cell_type": "code",
      "metadata": {
        "colab": {
          "base_uri": "https://localhost:8080/"
        },
        "id": "3Esb3WY7IEcT",
        "outputId": "beed1cc7-0e30-4eb4-fab3-1b017883a2e5"
      },
      "source": [
        "birthday.weekday()"
      ],
      "execution_count": 11,
      "outputs": [
        {
          "output_type": "execute_result",
          "data": {
            "text/plain": [
              "1"
            ]
          },
          "metadata": {
            "tags": []
          },
          "execution_count": 11
        }
      ]
    },
    {
      "cell_type": "code",
      "metadata": {
        "colab": {
          "base_uri": "https://localhost:8080/"
        },
        "id": "45LyC4-iIJa5",
        "outputId": "c60a9155-467e-4f05-f378-4cba7dd70536"
      },
      "source": [
        "datetime.now()"
      ],
      "execution_count": 12,
      "outputs": [
        {
          "output_type": "execute_result",
          "data": {
            "text/plain": [
              "datetime.datetime(2021, 2, 5, 19, 16, 30, 830686)"
            ]
          },
          "metadata": {
            "tags": []
          },
          "execution_count": 12
        }
      ]
    },
    {
      "cell_type": "code",
      "metadata": {
        "colab": {
          "base_uri": "https://localhost:8080/"
        },
        "id": "RkmWGF8QIZFV",
        "outputId": "e7712e4f-8656-4045-a64e-3fbc106f7b89"
      },
      "source": [
        "datetime.now() - datetime(2018, 6, 12)"
      ],
      "execution_count": 13,
      "outputs": [
        {
          "output_type": "execute_result",
          "data": {
            "text/plain": [
              "datetime.timedelta(969, 69390, 840968)"
            ]
          },
          "metadata": {
            "tags": []
          },
          "execution_count": 13
        }
      ]
    },
    {
      "cell_type": "code",
      "metadata": {
        "colab": {
          "base_uri": "https://localhost:8080/"
        },
        "id": "scnS3DJrIf7C",
        "outputId": "29c52c55-bec5-4b41-c5b9-03b5e9d8b303"
      },
      "source": [
        "parsed_date = datetime.strptime('Jan 14, 2018', '%b %d, %Y')\r\n",
        "parsed_date.month"
      ],
      "execution_count": 14,
      "outputs": [
        {
          "output_type": "execute_result",
          "data": {
            "text/plain": [
              "1"
            ]
          },
          "metadata": {
            "tags": []
          },
          "execution_count": 14
        }
      ]
    },
    {
      "cell_type": "code",
      "metadata": {
        "colab": {
          "base_uri": "https://localhost:8080/",
          "height": 35
        },
        "id": "VtFfxyuxIgmy",
        "outputId": "b92487ce-eaf4-4efa-cc27-38dc504e8b11"
      },
      "source": [
        "date_string = datetime.strftime(datetime.now(), '%b %d, %Y')\r\n",
        "date_string"
      ],
      "execution_count": 15,
      "outputs": [
        {
          "output_type": "execute_result",
          "data": {
            "application/vnd.google.colaboratory.intrinsic+json": {
              "type": "string"
            },
            "text/plain": [
              "'Feb 05, 2021'"
            ]
          },
          "metadata": {
            "tags": []
          },
          "execution_count": 15
        }
      ]
    }
  ]
}
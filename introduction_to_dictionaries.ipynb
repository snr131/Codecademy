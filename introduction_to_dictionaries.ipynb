{
  "nbformat": 4,
  "nbformat_minor": 0,
  "metadata": {
    "colab": {
      "name": "introduction_to_dictionaries.ipynb",
      "provenance": [],
      "collapsed_sections": [],
      "authorship_tag": "ABX9TyPtHQasx40cA3Ga3Sik/pS4"
    },
    "kernelspec": {
      "name": "python3",
      "display_name": "Python 3"
    }
  },
  "cells": [
    {
      "cell_type": "code",
      "metadata": {
        "id": "AsguFeFxg5p8"
      },
      "source": [
        "# Create a dictionary called translations that maps the following words in English to their definitions in Sindarin (the language of the elves):\r\n",
        "translations = {'mountain':\t'orod', 'bread':\t'bass', 'friend':\t'mellon', 'horse':\t'roch'}"
      ],
      "execution_count": null,
      "outputs": []
    },
    {
      "cell_type": "code",
      "metadata": {
        "id": "c85T_m9zi997"
      },
      "source": [
        "# Create an empty dictionary called animals_in_zoo\r\n",
        "animals_in_zoo = {}"
      ],
      "execution_count": null,
      "outputs": []
    },
    {
      "cell_type": "code",
      "metadata": {
        "id": "gNXeKfx0jBQ5"
      },
      "source": [
        "# Walking around the zoo, you see 8 zebras. Add \"zebras\" to animals_in_zoo as a key with a value of 8\r\n",
        "animals_in_zoo['zebras'] = 8"
      ],
      "execution_count": null,
      "outputs": []
    },
    {
      "cell_type": "code",
      "metadata": {
        "id": "IXipjHRqjVIQ"
      },
      "source": [
        "# The primate house was bananas! Add \"monkeys\" to animals_in_zoo as a key with a value of 12\r\n",
        "animals_in_zoo['monkeys'] = 12"
      ],
      "execution_count": null,
      "outputs": []
    },
    {
      "cell_type": "code",
      "metadata": {
        "id": "ToGDcpksjfCG"
      },
      "source": [
        "# As you leave the zoo, you are saddened that you did not see any dinosaurs. Add \"dinosaurs\" to animals_in_zoo as a key with a value of 0\r\n",
        "animals_in_zoo['dinosaurs'] = 0"
      ],
      "execution_count": null,
      "outputs": []
    },
    {
      "cell_type": "code",
      "metadata": {
        "colab": {
          "base_uri": "https://localhost:8080/"
        },
        "id": "p5Am7TRujkC_",
        "outputId": "827425e8-0884-4c70-b57b-0c29736bcc65"
      },
      "source": [
        "print(animals_in_zoo)"
      ],
      "execution_count": null,
      "outputs": [
        {
          "output_type": "stream",
          "text": [
            "{'zebras': 8, 'monkeys': 12, 'dinosaurs': 0}\n"
          ],
          "name": "stdout"
        }
      ]
    },
    {
      "cell_type": "code",
      "metadata": {
        "colab": {
          "base_uri": "https://localhost:8080/"
        },
        "id": "jWiI4cUxjogs",
        "outputId": "d412bfc5-be34-47a7-ce78-658703f05bac"
      },
      "source": [
        "# In one line of code, add two new users to the user_ids dictionary:\r\n",
        "#theLooper, with an id of 138475\r\n",
        "#stringQueen, with an id of 85739\r\n",
        "user_ids = {\"teraCoder\": 9018293, \"proProgrammer\": 119238}\r\n",
        "user_ids.update({'theLooper': 138475, 'stringQueen': 85739})\r\n",
        "print(user_ids)"
      ],
      "execution_count": null,
      "outputs": [
        {
          "output_type": "stream",
          "text": [
            "{'teraCoder': 9018293, 'proProgrammer': 119238, 'theLooper': 138475, 'stringQueen': 85739}\n"
          ],
          "name": "stdout"
        }
      ]
    },
    {
      "cell_type": "code",
      "metadata": {
        "colab": {
          "base_uri": "https://localhost:8080/"
        },
        "id": "HQjekYsYkO63",
        "outputId": "6e92bb5c-2384-4d95-9ffe-7c8238c20137"
      },
      "source": [
        "oscar_winners = {\"Best Picture\": \"La La Land\", \"Best Actor\": \"Casey Affleck\", \"Best Actress\": \"Emma Stone\", \"Animated Feature\": \"Zootopia\"}\r\n",
        "# Add the key \"Supporting Actress\" and set the value to \"Viola Davis\"\r\n",
        "oscar_winners['Supporting Actress'] = 'Viola Davis'\r\n",
        "# Without changing the definition of the dictionary oscar_winners, change the value associated with the key \"Best Picture\" to \"Moonlight\"\r\n",
        "oscar_winners['Best Picture'] = 'Moonlight'\r\n",
        "print(oscar_winners)"
      ],
      "execution_count": null,
      "outputs": [
        {
          "output_type": "stream",
          "text": [
            "{'Best Picture': 'Moonlight', 'Best Actor': 'Casey Affleck', 'Best Actress': 'Emma Stone', 'Animated Feature': 'Zootopia', 'Supporting Actress': 'Viola Davis'}\n"
          ],
          "name": "stdout"
        }
      ]
    },
    {
      "cell_type": "code",
      "metadata": {
        "colab": {
          "base_uri": "https://localhost:8080/"
        },
        "id": "JZNINNvMkmzR",
        "outputId": "ad7cffe1-6636-470d-ad14-663d251ebd08"
      },
      "source": [
        "drinks = [\"espresso\", \"chai\", \"decaf\", \"drip\"]\r\n",
        "caffeine = [64, 40, 0, 120]\r\n",
        "# You have two lists, representing some drinks sold at a coffee shop and the milligrams of caffeine in each \r\n",
        "# First, create a variable called zipped_drinks that is a zipped list of pairs between the drinks list and the caffeine list\r\n",
        "zipped_drinks = zip(drinks, caffeine)\r\n",
        "# Create a dictionary called drinks_to_caffeine by using a list comprehension that goes through the zipped_drinks list and turns each pair into a key:value item\r\n",
        "drinks_to_caffeine = {key: value for key, value in zipped_drinks}\r\n",
        "print(drinks_to_caffeine)"
      ],
      "execution_count": null,
      "outputs": [
        {
          "output_type": "stream",
          "text": [
            "{'espresso': 64, 'chai': 40, 'decaf': 0, 'drip': 120}\n"
          ],
          "name": "stdout"
        }
      ]
    },
    {
      "cell_type": "code",
      "metadata": {
        "colab": {
          "base_uri": "https://localhost:8080/"
        },
        "id": "5ax5WzGBlU5T",
        "outputId": "920f903e-4dd7-4cf6-cc6b-f6257c9addef"
      },
      "source": [
        "songs = [\"Like a Rolling Stone\", \"Satisfaction\", \"Imagine\", \"What's Going On\", \"Respect\", \"Good Vibrations\"]\r\n",
        "playcounts = [78, 29, 44, 21, 89, 5]\r\n",
        "# We are building a music streaming service\r\n",
        "# We have provided two lists, representing songs in a user’s library and the amount of times each song has been played\r\n",
        "# Using a list comprehension, create a dictionary called plays that goes through zip(songs, playcounts) and creates a song:playcount pair for each song in songs and each playcount in playcounts\r\n",
        "plays = {key: value for key, value in zip(songs, playcounts)}\r\n",
        "print(plays)"
      ],
      "execution_count": null,
      "outputs": [
        {
          "output_type": "stream",
          "text": [
            "{'Like a Rolling Stone': 78, 'Satisfaction': 29, 'Imagine': 44, \"What's Going On\": 21, 'Respect': 89, 'Good Vibrations': 5}\n"
          ],
          "name": "stdout"
        }
      ]
    },
    {
      "cell_type": "code",
      "metadata": {
        "id": "6p5IRf_hmLYg"
      },
      "source": [
        "# After printing plays, add a new entry to it. The entry should be for the song \"Purple Haze\" and the playcount is 1\r\n",
        "plays['Purple Haze'] = 1"
      ],
      "execution_count": null,
      "outputs": []
    },
    {
      "cell_type": "code",
      "metadata": {
        "colab": {
          "base_uri": "https://localhost:8080/"
        },
        "id": "nRAJuONDmgZ8",
        "outputId": "3a153295-7d41-4473-cf95-88da21967e1c"
      },
      "source": [
        "# This user has caught Aretha Franklin fever and listened to “Respect” 5 more times \r\n",
        "# Update the value for \"Respect\" to be 94 in the plays dictionary\r\n",
        "plays['Respect'] = 94\r\n",
        "# Create a dictionary called library that has two key: value pairs:\r\n",
        "# key \"The Best Songs\" with a value of plays, the dictionary you created\r\n",
        "# key \"Sunday Feelings\" with a value of an empty dictionary\r\n",
        "library = {'The Best Songs': plays, 'Sunday Feelings': {}}\r\n",
        "print(library)"
      ],
      "execution_count": null,
      "outputs": [
        {
          "output_type": "stream",
          "text": [
            "{'The Best Songs': {'Like a Rolling Stone': 78, 'Satisfaction': 29, 'Imagine': 44, \"What's Going On\": 21, 'Respect': 94, 'Good Vibrations': 5, 'Purple Haze': 1}, 'Sunday Feelings': {}}\n"
          ],
          "name": "stdout"
        }
      ]
    },
    {
      "cell_type": "code",
      "metadata": {
        "colab": {
          "base_uri": "https://localhost:8080/"
        },
        "id": "eqcGmZaL8Dea",
        "outputId": "9e46a15b-506b-48a5-881e-c80604775550"
      },
      "source": [
        "zodiac_elements = {\"water\": [\"Cancer\", \"Scorpio\", \"Pisces\"], \"fire\": [\"Aries\", \"Leo\", \"Sagittarius\"], \"earth\": [\"Taurus\", \"Virgo\", \"Capricorn\"], \"air\":[\"Gemini\", \"Libra\", \"Aquarius\"]}\r\n",
        "# We have provided a dictionary that maps the elements of astrology to the zodiac signs\r\n",
        "# Print out the list of zodiac signs associated with the \"earth\" element\r\n",
        "print(zodiac_elements['earth'])"
      ],
      "execution_count": null,
      "outputs": [
        {
          "output_type": "stream",
          "text": [
            "['Taurus', 'Virgo', 'Capricorn']\n"
          ],
          "name": "stdout"
        }
      ]
    },
    {
      "cell_type": "code",
      "metadata": {
        "colab": {
          "base_uri": "https://localhost:8080/"
        },
        "id": "hvVbEX1S8OLR",
        "outputId": "be444804-309f-406a-83ea-289919d4500a"
      },
      "source": [
        "# Print out the list of the \"fire\" sign\r\n",
        "print(zodiac_elements['fire'])"
      ],
      "execution_count": null,
      "outputs": [
        {
          "output_type": "stream",
          "text": [
            "['Aries', 'Leo', 'Sagittarius']\n"
          ],
          "name": "stdout"
        }
      ]
    },
    {
      "cell_type": "code",
      "metadata": {
        "id": "91uitLMi8ZzY"
      },
      "source": [
        "building_heights = {\"Burj Khalifa\": 828, \"Shanghai Tower\": 632, \"Abraj Al Bait\": 601, \"Ping An\": 599, \"Lotte World Tower\": 554.5, \"One World Trade\": 541.3}\r\n",
        "# Check if the \"Landmark 81\" key exists in the dictionary\r\n",
        "if \"Landmark 81\" in building_heights:\r\n",
        "  print(building_heights['Landmark 81']) "
      ],
      "execution_count": null,
      "outputs": []
    },
    {
      "cell_type": "code",
      "metadata": {
        "colab": {
          "base_uri": "https://localhost:8080/"
        },
        "id": "twnhcv119gSg",
        "outputId": "3b753ba7-ca62-479d-91ac-be2d9c8566bd"
      },
      "source": [
        "if \"Burj Khalifa\" in building_heights:\r\n",
        "  print(building_heights[\"Burj Khalifa\"])"
      ],
      "execution_count": null,
      "outputs": [
        {
          "output_type": "stream",
          "text": [
            "828\n"
          ],
          "name": "stdout"
        }
      ]
    },
    {
      "cell_type": "code",
      "metadata": {
        "colab": {
          "base_uri": "https://localhost:8080/"
        },
        "id": "wh54tRBu986e",
        "outputId": "96d13a7e-9c6f-4173-d434-b25d8e731cf8"
      },
      "source": [
        "caffeine_level = {\"espresso\": 64, \"chai\": 40, \"decaf\": 0, \"drip\": 120}\r\n",
        "# Use a try block to try to print the caffeine level of \"matcha\"\r\n",
        "# If there is a KeyError, print \"Unknown Caffeine Level\"\r\n",
        "try:\r\n",
        "  print(caffeine_level['matcha'])\r\n",
        "except KeyError:\r\n",
        "  print('Unknown Caffeine Level')"
      ],
      "execution_count": null,
      "outputs": [
        {
          "output_type": "stream",
          "text": [
            "Unknown Caffeine Level\n"
          ],
          "name": "stdout"
        }
      ]
    },
    {
      "cell_type": "code",
      "metadata": {
        "colab": {
          "base_uri": "https://localhost:8080/"
        },
        "id": "59XHzRSa-PAr",
        "outputId": "dafa9c56-2d84-4e63-ad39-94f27a652e8b"
      },
      "source": [
        "try:\r\n",
        "  print(caffeine_level['chai'])\r\n",
        "except KeyError:\r\n",
        "  print('Unknown Caffeine Level')"
      ],
      "execution_count": null,
      "outputs": [
        {
          "output_type": "stream",
          "text": [
            "40\n"
          ],
          "name": "stdout"
        }
      ]
    },
    {
      "cell_type": "code",
      "metadata": {
        "colab": {
          "base_uri": "https://localhost:8080/"
        },
        "id": "DHyE_MR1_Kzo",
        "outputId": "2ea87f21-b47a-4ead-fef0-353373ce9bee"
      },
      "source": [
        "user_ids = {\"teraCoder\": 100019, \"pythonGuy\": 182921, \"samTheJavaMaam\": 123112, \"lyleLoop\": 102931, \"keysmithKeith\": 129384}\r\n",
        "# Use .get() to get the value of \"teraCoder\"‘s user ID, with 100000 as a default value if the user doesn’t exist\r\n",
        "# Store it in a variable called tc_id\r\n",
        "# Print tc_id to the console\r\n",
        "tc_id = user_ids.get('teraCoder', 100000)\r\n",
        "print(tc_id)"
      ],
      "execution_count": null,
      "outputs": [
        {
          "output_type": "stream",
          "text": [
            "100019\n"
          ],
          "name": "stdout"
        }
      ]
    },
    {
      "cell_type": "code",
      "metadata": {
        "colab": {
          "base_uri": "https://localhost:8080/"
        },
        "id": "Xi1ep2x2_kOa",
        "outputId": "0cb2cd70-b66f-442e-f175-b17078ee520e"
      },
      "source": [
        "# Use .get() to get the value of \"superStackSmash\"‘s user ID, with 100000 as a default value if the user doesn’t exist\r\n",
        "# Store it in a variable called stack_id\r\n",
        "# Print stack_id to the console\r\n",
        "stack_id = user_ids.get('superStackSmash', 100000)\r\n",
        "print(stack_id)"
      ],
      "execution_count": null,
      "outputs": [
        {
          "output_type": "stream",
          "text": [
            "100000\n"
          ],
          "name": "stdout"
        }
      ]
    },
    {
      "cell_type": "code",
      "metadata": {
        "colab": {
          "base_uri": "https://localhost:8080/"
        },
        "id": "gv9_hBex_2Zg",
        "outputId": "cfe20987-4ac8-423b-b95b-dfb51f03aa1c"
      },
      "source": [
        "available_items = {\"health potion\": 10, \"cake of the cure\": 5, \"green elixir\": 20, \"strength sandwich\": 25, \"stamina grains\": 15, \"power stew\": 30}\r\n",
        "health_points = 20\r\n",
        "# You are designing the video game Big Rock Adventure\r\n",
        "# We have provided a dictionary of items that are in the player’s inventory which add points to their health meter\r\n",
        "# In one line, add the corresponding value of the key \"stamina grains\" to the health_points variable and remove the item \"stamina grains\" from the dictionary\r\n",
        "# If the key does not exist, add 0 to health_points\r\n",
        "health_points += available_items.pop('stamina grains', 0)\r\n",
        "print(health_points)"
      ],
      "execution_count": null,
      "outputs": [
        {
          "output_type": "stream",
          "text": [
            "35\n"
          ],
          "name": "stdout"
        }
      ]
    },
    {
      "cell_type": "code",
      "metadata": {
        "colab": {
          "base_uri": "https://localhost:8080/"
        },
        "id": "MOwAaeDKD9bY",
        "outputId": "689ecb6b-1bb7-4e5b-9a49-42b40184595f"
      },
      "source": [
        "# In one line, add the value of \"power stew\" to health_points and remove the item from the dictionary\r\n",
        "# If the key does not exist, add 0 to health_points.\r\n",
        "health_points += available_items.pop('power stew', 0)\r\n",
        "print(health_points)"
      ],
      "execution_count": null,
      "outputs": [
        {
          "output_type": "stream",
          "text": [
            "65\n"
          ],
          "name": "stdout"
        }
      ]
    },
    {
      "cell_type": "code",
      "metadata": {
        "colab": {
          "base_uri": "https://localhost:8080/"
        },
        "id": "GlqyfI4IEQrs",
        "outputId": "841c7bb4-f653-4c3c-f70a-5b16a3e55d41"
      },
      "source": [
        "# In one line, add the value of \"mystic bread\" to health_points and remove the item from the dictionary\r\n",
        "# If the key does not exist, add 0 to health_points\r\n",
        "health_points += available_items.pop('mystic bread', 0)\r\n",
        "print(health_points)\r\n",
        "print(available_items)"
      ],
      "execution_count": null,
      "outputs": [
        {
          "output_type": "stream",
          "text": [
            "65\n",
            "{'health potion': 10, 'cake of the cure': 5, 'green elixir': 20, 'strength sandwich': 25}\n"
          ],
          "name": "stdout"
        }
      ]
    },
    {
      "cell_type": "code",
      "metadata": {
        "colab": {
          "base_uri": "https://localhost:8080/"
        },
        "id": "qsg2ik-WEfyE",
        "outputId": "e100d01f-1341-4cbe-f40c-631c8a863119"
      },
      "source": [
        "user_ids = {\"teraCoder\": 100019, \"pythonGuy\": 182921, \"samTheJavaMaam\": 123112, \"lyleLoop\": 102931, \"keysmithKeith\": 129384}\r\n",
        "num_exercises = {\"functions\": 10, \"syntax\": 13, \"control flow\": 15, \"loops\": 22, \"lists\": 19, \"classes\": 18, \"dictionaries\": 18}\r\n",
        "# Create a variable called users and assign it to be a dict_keys object of all of the keys of the user_ids dictionary\r\n",
        "users = user_ids.keys()\r\n",
        "print(users)"
      ],
      "execution_count": null,
      "outputs": [
        {
          "output_type": "stream",
          "text": [
            "dict_keys(['teraCoder', 'pythonGuy', 'samTheJavaMaam', 'lyleLoop', 'keysmithKeith'])\n"
          ],
          "name": "stdout"
        }
      ]
    },
    {
      "cell_type": "code",
      "metadata": {
        "colab": {
          "base_uri": "https://localhost:8080/"
        },
        "id": "APmkO87gFTZF",
        "outputId": "aa602f6c-e131-42db-d93b-ce0439578d6f"
      },
      "source": [
        "# Create a variable called lessons and assign it to be a dict_keys object of all of the keys of the num_exercises dictionary\r\n",
        "lessons = num_exercises.keys()\r\n",
        "print(lessons)"
      ],
      "execution_count": null,
      "outputs": [
        {
          "output_type": "stream",
          "text": [
            "dict_keys(['functions', 'syntax', 'control flow', 'loops', 'lists', 'classes', 'dictionaries'])\n"
          ],
          "name": "stdout"
        }
      ]
    },
    {
      "cell_type": "code",
      "metadata": {
        "colab": {
          "base_uri": "https://localhost:8080/"
        },
        "id": "g0TalGbAFlSA",
        "outputId": "ca3efd56-7534-4e4b-f118-c5e8bc4f2c39"
      },
      "source": [
        "num_exercises = {\"functions\": 10, \"syntax\": 13, \"control flow\": 15, \"loops\": 22, \"lists\": 19, \"classes\": 18, \"dictionaries\": 18}\r\n",
        "# Create a variable called total_exercises and set it equal to 0\r\n",
        "total_exercises = 0\r\n",
        "# Iterate through the values in the num_exercises list and add each value to the total_exercises variable\r\n",
        "for nums in num_exercises.values():\r\n",
        "  total_exercises += nums\r\n",
        "print(num_exercises.values())\r\n",
        "print(total_exercises)"
      ],
      "execution_count": null,
      "outputs": [
        {
          "output_type": "stream",
          "text": [
            "dict_values([10, 13, 15, 22, 19, 18, 18])\n",
            "115\n"
          ],
          "name": "stdout"
        }
      ]
    },
    {
      "cell_type": "code",
      "metadata": {
        "colab": {
          "base_uri": "https://localhost:8080/"
        },
        "id": "JaR7tsbeJZEN",
        "outputId": "013f0b00-fd8a-4591-cfb3-3f33565cbe48"
      },
      "source": [
        "pct_women_in_occupation = {\"CEO\": 28, \"Engineering Manager\": 9, \"Pharmacist\": 58, \"Physician\": 40, \"Lawyer\": 37, \"Aerospace Engineer\": 9}\r\n",
        "# Use a for loop to iterate through the items of pct_women_in_occupation. For each key : value pair, print out a string that looks like:\r\n",
        "# Women make up [value] percent of [key]s.\r\n",
        "for position, value in pct_women_in_occupation.items():\r\n",
        "  print(f'Women make up {value} percent of {position}s.')"
      ],
      "execution_count": null,
      "outputs": [
        {
          "output_type": "stream",
          "text": [
            "Women make up 28 percent of CEOs.\n",
            "Women make up 9 percent of Engineering Managers.\n",
            "Women make up 58 percent of Pharmacists.\n",
            "Women make up 40 percent of Physicians.\n",
            "Women make up 37 percent of Lawyers.\n",
            "Women make up 9 percent of Aerospace Engineers.\n"
          ],
          "name": "stdout"
        }
      ]
    },
    {
      "cell_type": "code",
      "metadata": {
        "colab": {
          "base_uri": "https://localhost:8080/"
        },
        "id": "FAR2CYsfOPuE",
        "outputId": "ef9645dc-8c82-41ef-8607-bdd1084490c8"
      },
      "source": [
        "print(len(pct_women_in_occupation))"
      ],
      "execution_count": null,
      "outputs": [
        {
          "output_type": "stream",
          "text": [
            "6\n"
          ],
          "name": "stdout"
        }
      ]
    },
    {
      "cell_type": "code",
      "metadata": {
        "colab": {
          "base_uri": "https://localhost:8080/"
        },
        "id": "p402-SCFOSFv",
        "outputId": "f78b56e7-4137-43e1-c92e-a338e5ad76dd"
      },
      "source": [
        "tarot = { 1:\t\"The Magician\", 2:\t\"The High Priestess\", 3:\t\"The Empress\", 4:\t\"The Emperor\", 5:\t\"The Hierophant\", 6:\t\"The Lovers\", 7:\t\"The Chariot\", 8:\t\"Strength\", 9:\t\"The Hermit\", 10:\t\"Wheel of Fortune\", 11:\t\"Justice\", 12:\t\"The Hanged Man\", 13:\t\"Death\", 14:\t\"Temperance\", 15:\t\"The Devil\", 16:\t\"The Tower\", 17:\t\"The Star\", 18:\t\"The Moon\", 19:\t\"The Sun\", 20:\t\"Judgement\", 21:\t\"The World\", 22: \"The Fool\"}\r\n",
        "# We have provided a pack of tarot cards, tarot\r\n",
        "# You are going to do a three card spread of your past, present, and future\r\n",
        "# Create an empty dictionary called spread\r\n",
        "spread = {}\r\n",
        "# The first card you draw is card 13\r\n",
        "# Pop the value assigned to the key 13 out of the tarot dictionary and assign it as the value of the \"past\" key of spread\r\n",
        "if 13 in tarot:\r\n",
        "  spread['past'] = tarot[13]\r\n",
        "  tarot.pop(13)\r\n",
        "print(spread)\r\n",
        "print(tarot)"
      ],
      "execution_count": null,
      "outputs": [
        {
          "output_type": "stream",
          "text": [
            "{'past': 'Death'}\n",
            "{1: 'The Magician', 2: 'The High Priestess', 3: 'The Empress', 4: 'The Emperor', 5: 'The Hierophant', 6: 'The Lovers', 7: 'The Chariot', 8: 'Strength', 9: 'The Hermit', 10: 'Wheel of Fortune', 11: 'Justice', 12: 'The Hanged Man', 14: 'Temperance', 15: 'The Devil', 16: 'The Tower', 17: 'The Star', 18: 'The Moon', 19: 'The Sun', 20: 'Judgement', 21: 'The World', 22: 'The Fool'}\n"
          ],
          "name": "stdout"
        }
      ]
    },
    {
      "cell_type": "code",
      "metadata": {
        "id": "RIRF6slqO-v8"
      },
      "source": [
        "# The second card you draw is card 22. Pop the value assigned to the key 22 out of the tarot dictionary and assign it as the value of the \"present\" key of spread\r\n",
        "if 22 in tarot:\r\n",
        "  spread['present'] = tarot[22]\r\n",
        "  tarot.pop(22)"
      ],
      "execution_count": null,
      "outputs": []
    },
    {
      "cell_type": "code",
      "metadata": {
        "id": "JvXf6Vc5xpPt"
      },
      "source": [
        "# The third card you draw is card 10 \r\n",
        "# Pop the value assigned to the key 10 out of the tarot dictionary and assign it as the value of the \"future\" key of spread\r\n",
        "if 10 in tarot:\r\n",
        "  spread['future'] = tarot[10]\r\n",
        "  tarot.pop(10)"
      ],
      "execution_count": null,
      "outputs": []
    },
    {
      "cell_type": "code",
      "metadata": {
        "colab": {
          "base_uri": "https://localhost:8080/"
        },
        "id": "P4rmapCLx_Ck",
        "outputId": "30674118-9c7e-4045-cccb-e46c3b92b92b"
      },
      "source": [
        "# Iterate through the items in the spread dictionary and for each key: value pair, print out a string that says:\r\n",
        "# Your {key} is the {value} card.\r\n",
        "for key, value in spread.items():\r\n",
        "  print(f'Your {key} is the {value} card.')"
      ],
      "execution_count": null,
      "outputs": [
        {
          "output_type": "stream",
          "text": [
            "Your past is the Death card.\n",
            "Your present is the The Fool card.\n",
            "Your future is the Wheel of Fortune card.\n"
          ],
          "name": "stdout"
        }
      ]
    },
    {
      "cell_type": "markdown",
      "metadata": {
        "id": "WDFh3vCgy9uD"
      },
      "source": [
        "Scrabble Mini Project"
      ]
    },
    {
      "cell_type": "code",
      "metadata": {
        "colab": {
          "base_uri": "https://localhost:8080/"
        },
        "id": "jj_1J06qyeIc",
        "outputId": "f996656e-c763-40e6-ead9-613738204971"
      },
      "source": [
        "\"\"\"\r\n",
        "We have provided you with two lists, letters and points. We would like to combine these two into a dictionary that would map a letter to its point value.\r\n",
        "\r\n",
        "Using a list comprehension and zip, create a dictionary called letter_to_points that has the elements of letters as the keys and the elements of points as the values.\r\n",
        "\"\"\"\r\n",
        "letters = [\"A\", \"B\", \"C\", \"D\", \"E\", \"F\", \"G\", \"H\", \"I\", \"J\", \"K\", \"L\", \"M\", \"N\", \"O\", \"P\", \"Q\", \"R\", \"S\", \"T\", \"U\", \"V\", \"W\", \"X\", \"Y\", \"Z\"]\r\n",
        "points = [1, 3, 3, 2, 1, 4, 2, 4, 1, 8, 5, 1, 3, 4, 1, 3, 10, 1, 1, 1, 1, 4, 4, 8, 4, 10]\r\n",
        "letter_to_points = {key: value for key, value in zip(letters, points)}\r\n",
        "print(letter_to_points)"
      ],
      "execution_count": null,
      "outputs": [
        {
          "output_type": "stream",
          "text": [
            "{'A': 1, 'B': 3, 'C': 3, 'D': 2, 'E': 1, 'F': 4, 'G': 2, 'H': 4, 'I': 1, 'J': 8, 'K': 5, 'L': 1, 'M': 3, 'N': 4, 'O': 1, 'P': 3, 'Q': 10, 'R': 1, 'S': 1, 'T': 1, 'U': 1, 'V': 4, 'W': 4, 'X': 8, 'Y': 4, 'Z': 10}\n"
          ],
          "name": "stdout"
        }
      ]
    },
    {
      "cell_type": "code",
      "metadata": {
        "id": "gv2II5sxzl6L"
      },
      "source": [
        "\"\"\"\r\n",
        "Our letters list did not take into account blank tiles. Add an element to the letter_to_points dictionary that has a key of \" \" and a point value of 0.\r\n",
        "\"\"\"\r\n",
        "letter_to_points[\" \"] = 0"
      ],
      "execution_count": null,
      "outputs": []
    },
    {
      "cell_type": "code",
      "metadata": {
        "colab": {
          "base_uri": "https://localhost:8080/"
        },
        "id": "zOMlM6CMz554",
        "outputId": "08754406-83b3-4757-b312-e12f301997b2"
      },
      "source": [
        "\"\"\"\r\n",
        "We want to create a function that will take in a word and return how many points that word is worth.\r\n",
        "\r\n",
        "Define a function called score_word that takes in a parameter word.\r\n",
        "Inside score_word, create a variable called point_total and set it to 0.\r\n",
        "After defining point_total, create a for loop that goes through the letters in word and adds the point value of each letter to point_total.\r\n",
        "\r\n",
        "You should get the point value from the letter_to_points dictionary. If the letter you are checking for is not in letter_to_points, add 0 to the point_total.\r\n",
        "After the for loop is finished, return point_total\r\n",
        "Let’s test this function! Create a variable called brownie_points and set it equal to the value returned by the score_word() function with an input of \"BROWNIE\".\r\n",
        "\r\n",
        "We expect the word BROWNIE to earn 15 points:\r\n",
        "\r\n",
        "(B + R + O + W + N + I + E)\r\n",
        " \r\n",
        "(3 + 1 + 1 + 4 + 4 + 1 + 1) = 15\r\n",
        "Let’s print out brownie_points to make sure we got it right.\r\n",
        "\"\"\"\r\n",
        "def score_word(word):\r\n",
        "  point_total = 0\r\n",
        "  for letter in word:\r\n",
        "    point_total += letter_to_points[letter]\r\n",
        "  return point_total\r\n",
        "\r\n",
        "brownie_points = score_word('BROWNIE')\r\n",
        "print(brownie_points)"
      ],
      "execution_count": null,
      "outputs": [
        {
          "output_type": "stream",
          "text": [
            "15\n"
          ],
          "name": "stdout"
        }
      ]
    },
    {
      "cell_type": "code",
      "metadata": {
        "colab": {
          "base_uri": "https://localhost:8080/"
        },
        "id": "gMNUWhtc0lJ3",
        "outputId": "8408710b-7af2-43cf-b97d-c4426be6ba4d"
      },
      "source": [
        "\"\"\"\r\n",
        "Create a dictionary called player_to_words that maps players to a list of the words they have played. This table represents the data to transcribe into your dictionary:\r\n",
        "\r\n",
        "Create an empty dictionary called player_to_points.\r\n",
        "\r\n",
        "Iterate through the items in player_to_words. Call each player player and each list of words words.\r\n",
        "\r\n",
        "Within your loop, create a variable called player_points and set it to 0.\r\n",
        "Within the loop, create another loop that goes through each word in words and adds the value of score_word() with word as an input.\r\n",
        "After the inner loop ends, set the current player value to be a key of player_to_points, with a value of player_points.\r\n",
        "player_to_points should now contain the mapping of players to how many points they’ve scored. Print this out to see the current standings for this game!\r\n",
        "\r\n",
        "If you’ve calculated correctly, wordNerd should be winning by 1 point.\r\n",
        "\"\"\"\r\n",
        "player_to_words = {'player1': ['BLUE', 'TENNIS', 'EXIT'], 'wordNerd': ['EARTH', 'EYES', 'MACHINE'], 'Lexi Con': ['ERASER', 'BELLY', 'HUSKY'], 'Prof Readher': ['ZAP', 'COMA', 'PERIOD']}\r\n",
        "player_to_points = {}\r\n",
        "def score_card():\r\n",
        "  for player, words in player_to_words.items():\r\n",
        "    player_points = 0\r\n",
        "    for word in words:\r\n",
        "      player_points += score_word(word)\r\n",
        "    player_to_points[player] = player_points\r\n",
        "\r\n",
        "score_card()  \r\n",
        "print(player_to_points)"
      ],
      "execution_count": null,
      "outputs": [
        {
          "output_type": "stream",
          "text": [
            "{'player1': 29, 'wordNerd': 32, 'Lexi Con': 31, 'Prof Readher': 31}\n"
          ],
          "name": "stdout"
        }
      ]
    },
    {
      "cell_type": "code",
      "metadata": {
        "colab": {
          "base_uri": "https://localhost:8080/"
        },
        "id": "2T-TRYnt3MFF",
        "outputId": "6d5d93be-2bff-42b2-a668-b9f1a7d66625"
      },
      "source": [
        "# play_word() — a function that would take in a player and a word, and add that word to the list of words they’ve played\r\n",
        "# score_card() — turn your nested loops into a function that you can call any time a word is played\r\n",
        "# make your letter_to_points dictionary able to handle lowercase inputs as well\r\n",
        "def play_word(current_player, new_word):\r\n",
        "  for player, words in player_to_words.items():\r\n",
        "    if current_player == player:\r\n",
        "      if player in player_to_words.keys():\r\n",
        "        words.append(new_word.upper())\r\n",
        "        score_card()\r\n",
        "      \r\n",
        "\r\n",
        "\r\n",
        "play_word('player1', 'SHOE')\r\n",
        "print(player_to_words)\r\n",
        "print(player_to_points)"
      ],
      "execution_count": null,
      "outputs": [
        {
          "output_type": "stream",
          "text": [
            "{'player1': ['BLUE', 'TENNIS', 'EXIT', 'SHOE', 'SHOE'], 'wordNerd': ['EARTH', 'EYES', 'MACHINE'], 'Lexi Con': ['ERASER', 'BELLY', 'HUSKY'], 'Prof Readher': ['ZAP', 'COMA', 'PERIOD']}\n",
            "{'player1': 43, 'wordNerd': 32, 'Lexi Con': 31, 'Prof Readher': 31}\n"
          ],
          "name": "stdout"
        }
      ]
    },
    {
      "cell_type": "code",
      "metadata": {
        "colab": {
          "base_uri": "https://localhost:8080/"
        },
        "id": "H70f6l8kT7iS",
        "outputId": "b95f1cf2-8d55-494d-c528-941d5569b4b0"
      },
      "source": [
        "play_word('player1', 'quiz')\r\n",
        "print(player_to_words)\r\n",
        "print(player_to_points)"
      ],
      "execution_count": null,
      "outputs": [
        {
          "output_type": "stream",
          "text": [
            "{'player1': ['BLUE', 'TENNIS', 'EXIT', 'SHOE', 'SHOE', 'QUIZ'], 'wordNerd': ['EARTH', 'EYES', 'MACHINE'], 'Lexi Con': ['ERASER', 'BELLY', 'HUSKY'], 'Prof Readher': ['ZAP', 'COMA', 'PERIOD']}\n",
            "{'player1': 65, 'wordNerd': 32, 'Lexi Con': 31, 'Prof Readher': 31}\n"
          ],
          "name": "stdout"
        }
      ]
    },
    {
      "cell_type": "markdown",
      "metadata": {
        "id": "ygB8dHIl3k1s"
      },
      "source": [
        "Code Challenge"
      ]
    },
    {
      "cell_type": "code",
      "metadata": {
        "id": "h3tMsEeR3mqd"
      },
      "source": [
        "\"\"\"\r\n",
        "As a refresher, function syntax looks like this:\r\n",
        "\r\n",
        "def some_function(some_input1, some_input2):\r\n",
        "  … do something with the inputs …\r\n",
        "  return output\r\n",
        "For example, a function that counts the number of values in a dictionary that are above a given number would look like this:\r\n",
        "\r\n",
        "def greater_than_ten(my_dictionary, number):\r\n",
        "  count = 0\r\n",
        "  for value in my_dictionary.values():\r\n",
        "    if value > number:\r\n",
        "      count += 1\r\n",
        "  return count\r\n",
        "And this would produce output like:\r\n",
        "\r\n",
        ">>> greater_than_ten({\"a\":1, \"b\":2, \"c\":3}, 0)\r\n",
        "3\r\n",
        ">>> greater_than_ten({\"a\":1, \"b\":2, \"c\":3}, 5)\r\n",
        "0\r\n",
        "\"\"\""
      ],
      "execution_count": null,
      "outputs": []
    },
    {
      "cell_type": "code",
      "metadata": {
        "colab": {
          "base_uri": "https://localhost:8080/"
        },
        "id": "iFgUpF0p3wQn",
        "outputId": "f308bec6-db76-421d-89a8-c617cdde60f6"
      },
      "source": [
        "# Write a function named sum_values that takes a dictionary named my_dictionary as a parameter\r\n",
        "# The function should return the sum of the values of the dictionary\r\n",
        "def sum_values(my_dictionary):\r\n",
        "  sum_of_values = 0\r\n",
        "  for value in my_dictionary.values():\r\n",
        "    sum_of_values += value\r\n",
        "  return sum_of_values\r\n",
        "\r\n",
        "\r\n",
        "print(sum_values({\"milk\":5, \"eggs\":2, \"flour\": 3}))\r\n",
        "# should print 10\r\n",
        "print(sum_values({10:1, 100:2, 1000:3}))\r\n",
        "# should print 6"
      ],
      "execution_count": 3,
      "outputs": [
        {
          "output_type": "stream",
          "text": [
            "10\n",
            "6\n"
          ],
          "name": "stdout"
        }
      ]
    },
    {
      "cell_type": "code",
      "metadata": {
        "colab": {
          "base_uri": "https://localhost:8080/"
        },
        "id": "p-0Qfjzm5wOS",
        "outputId": "030f3489-95c2-4082-b341-0587c3083324"
      },
      "source": [
        "# Create a function called sum_even_keys that takes a dictionary named my_dictionary, with all integer keys and values, as a parameter\r\n",
        "# This function should return the sum of the values of all even keys\r\n",
        "def sum_even_keys(my_dictionary):\r\n",
        "  sum_of_even_key_values = 0\r\n",
        "  for key, value in my_dictionary.items():\r\n",
        "    if key % 2 == 0:\r\n",
        "      sum_of_even_key_values += value\r\n",
        "  return sum_of_even_key_values\r\n",
        "\r\n",
        "print(sum_even_keys({1:5, 2:2, 3:3}))\r\n",
        "# should print 2\r\n",
        "print(sum_even_keys({10:1, 100:2, 1000:3}))\r\n",
        "# should print 6"
      ],
      "execution_count": 5,
      "outputs": [
        {
          "output_type": "stream",
          "text": [
            "2\n",
            "6\n"
          ],
          "name": "stdout"
        }
      ]
    },
    {
      "cell_type": "code",
      "metadata": {
        "colab": {
          "base_uri": "https://localhost:8080/"
        },
        "id": "oSCyUHlj_QEj",
        "outputId": "17cf9395-1e47-4589-9e80-224bbf113a19"
      },
      "source": [
        "# Create a function named add_ten that takes a dictionary with integer values named my_dictionary as a parameter\r\n",
        "# The function should add 10 to every value in my_dictionary and return my_dictionary\r\n",
        "def add_ten(my_dictionary):\r\n",
        "  for key, value in my_dictionary.items():\r\n",
        "    my_dictionary[key] = value + 10\r\n",
        "  return my_dictionary\r\n",
        "\r\n",
        "print(add_ten({1:5, 2:2, 3:3}))\r\n",
        "# should print {1:15, 2:12, 3:13}\r\n",
        "print(add_ten({10:1, 100:2, 1000:3}))\r\n",
        "# should print {10:11, 100:12, 1000:13}"
      ],
      "execution_count": 9,
      "outputs": [
        {
          "output_type": "stream",
          "text": [
            "{1: 15, 2: 12, 3: 13}\n",
            "{10: 11, 100: 12, 1000: 13}\n"
          ],
          "name": "stdout"
        }
      ]
    },
    {
      "cell_type": "code",
      "metadata": {
        "colab": {
          "base_uri": "https://localhost:8080/"
        },
        "id": "AC7PH1QEBH_-",
        "outputId": "1e171a4a-8305-478c-92dc-8f00db131890"
      },
      "source": [
        "# Create a function named values_that_are_keys that takes a dictionary named my_dictionary as a parameter\r\n",
        "# This function should return a list of all values in the dictionary that are also keys\r\n",
        "def values_that_are_keys(my_dictionary):\r\n",
        "  v_is_a_k = []\r\n",
        "  for key, value in my_dictionary.items():\r\n",
        "    if value in my_dictionary:\r\n",
        "      v_is_a_k.append(value)\r\n",
        "  return v_is_a_k\r\n",
        "\r\n",
        "print(values_that_are_keys({1:100, 2:1, 3:4, 4:10}))\r\n",
        "# should print [1, 4]\r\n",
        "print(values_that_are_keys({\"a\":\"apple\", \"b\":\"a\", \"c\":100}))\r\n",
        "# should print [\"a\"]"
      ],
      "execution_count": 14,
      "outputs": [
        {
          "output_type": "stream",
          "text": [
            "[1, 4]\n",
            "['a']\n"
          ],
          "name": "stdout"
        }
      ]
    },
    {
      "cell_type": "code",
      "metadata": {
        "colab": {
          "base_uri": "https://localhost:8080/"
        },
        "id": "SQjZ8FvdCT7i",
        "outputId": "027a5814-79ac-4a7c-ee47-3ebb3b421f12"
      },
      "source": [
        "# Write a function named max_key that takes a dictionary named my_dictionary as a parameter\r\n",
        "# The function should return the key associated with the largest value in the dictionary\r\n",
        "# Begin by creating two variables named largest_key and largest_value\r\n",
        "# Initialize largest_value to be the smallest number possible (you can use float(\"-inf\")\r\n",
        "# Initialize largest_key to be an empty string\r\n",
        "# Loop through all keys/value pair in the dictionary\r\n",
        "# Any time you find a value larger than what is currently stored in largest_value, replace largest_value with that new value\r\n",
        "# Similarly, replace largest_key with the key associated with the new largest value\r\n",
        "# After looping through all key/value pairs, return largest_key\r\n",
        "def max_key(my_dictionary):\r\n",
        "  largest_k = float('-inf')\r\n",
        "  largest_v = float('-inf')\r\n",
        "  for key, value in my_dictionary.items():\r\n",
        "    if value > largest_v:\r\n",
        "      largest_v = value\r\n",
        "      largest_k = key\r\n",
        "  return largest_k\r\n",
        "\r\n",
        "print(max_key({1:100, 2:1, 3:1, 4:10}))\r\n",
        "# should print 1\r\n",
        "print(max_key({\"a\":100, \"b\":10, \"c\":1000}))\r\n",
        "# should print \"c\""
      ],
      "execution_count": 39,
      "outputs": [
        {
          "output_type": "stream",
          "text": [
            "1\n",
            "c\n"
          ],
          "name": "stdout"
        }
      ]
    },
    {
      "cell_type": "code",
      "metadata": {
        "colab": {
          "base_uri": "https://localhost:8080/"
        },
        "id": "vpcrRKKJHwEF",
        "outputId": "61168f35-73e9-492b-913d-c850856d2253"
      },
      "source": [
        "# Write a function named word_length_dictionary that takes a list of strings named words as a parameter\r\n",
        "# The function should return a dictionary of key/value pairs where every key is a word in words and every value is the length of that word\r\n",
        "def word_length_dictionary(words):\r\n",
        "  dict = {}\r\n",
        "  for word in words:\r\n",
        "    dict[word] = len(word)\r\n",
        "  return dict\r\n",
        "\r\n",
        "print(word_length_dictionary([\"apple\", \"dog\", \"cat\"]))\r\n",
        "# should print {\"apple\":5, \"dog\": 3, \"cat\":3}\r\n",
        "print(word_length_dictionary([\"a\", \"\"]))\r\n",
        "# should print {\"a\": 1, \"\": 0}\r\n"
      ],
      "execution_count": 44,
      "outputs": [
        {
          "output_type": "stream",
          "text": [
            "{'apple': 5, 'dog': 3, 'cat': 3}\n",
            "{'a': 1, '': 0}\n"
          ],
          "name": "stdout"
        }
      ]
    },
    {
      "cell_type": "code",
      "metadata": {
        "colab": {
          "base_uri": "https://localhost:8080/"
        },
        "id": "Wan3o3krJLVs",
        "outputId": "14ab4c9b-e031-4402-f5a9-96d8a2275fd8"
      },
      "source": [
        "# Write a function named frequency_dictionary that takes a list of elements named words as a parameter\r\n",
        "# The function should return a dictionary containing the frequency of each element in words\r\n",
        "# First, create a new empty dictionary. Then, loop through every word in words\r\n",
        "# If word is not a key in the dictionary, make word a key with a value of 1\r\n",
        "# If word was already a key, increase the value associated with word by 1\r\n",
        "def frequency_dictionary(words):\r\n",
        "  dict = {}\r\n",
        "  for word in words:\r\n",
        "    if word not in dict:\r\n",
        "      dict[word] = 0\r\n",
        "    dict[word] += 1\r\n",
        "  return dict\r\n",
        "  \r\n",
        "\r\n",
        "print(frequency_dictionary([\"apple\", \"apple\", \"cat\", 1]))\r\n",
        "# should print {\"apple\":2, \"cat\":1, 1:1}\r\n",
        "print(frequency_dictionary([0,0,0,0,0]))\r\n",
        "# should print {0:5}"
      ],
      "execution_count": 57,
      "outputs": [
        {
          "output_type": "stream",
          "text": [
            "{'apple': 2, 'cat': 1, 1: 1}\n",
            "{0: 5}\n"
          ],
          "name": "stdout"
        }
      ]
    },
    {
      "cell_type": "code",
      "metadata": {
        "colab": {
          "base_uri": "https://localhost:8080/"
        },
        "id": "MXo94x55YRDm",
        "outputId": "e6b4605e-446e-4e63-e3ed-a553ec86d35a"
      },
      "source": [
        "# Create a function named unique_values that takes a dictionary named my_dictionary as a parameter\r\n",
        "# The function should return the number of unique values in the dictionary\r\n",
        "def unique_values(my_dictionary):\r\n",
        "  unique_values = []\r\n",
        "  for key, value in my_dictionary.items():\r\n",
        "    if value not in unique_values:\r\n",
        "      unique_values.append(value)\r\n",
        "  return len(unique_values)\r\n",
        "\r\n",
        "print(unique_values({0:3, 1:1, 4:1, 5:3}))\r\n",
        "# should print 2\r\n",
        "print(unique_values({0:3, 1:3, 4:3, 5:3}))\r\n",
        "# should print 1"
      ],
      "execution_count": 60,
      "outputs": [
        {
          "output_type": "stream",
          "text": [
            "2\n",
            "1\n"
          ],
          "name": "stdout"
        }
      ]
    },
    {
      "cell_type": "code",
      "metadata": {
        "colab": {
          "base_uri": "https://localhost:8080/"
        },
        "id": "HesRE5QkZBlN",
        "outputId": "9daf37c4-e8fe-4997-98d1-fc6c93d4bd57"
      },
      "source": [
        "# Create a function named count_first_letter that takes a dictionary named names as a parameter\r\n",
        "# names should be a dictionary where the key is a last name and the value is a list of first names\r\n",
        "# For example, the dictionary might look like this:\r\n",
        "#names = {\"Stark\": [\"Ned\", \"Robb\", \"Sansa\"], \"Snow\" : [\"Jon\"], \"Lannister\": [\"Jaime\", \"Cersei\", \"Tywin\"]}\r\n",
        "#The function should return a new dictionary where each key is the first letter of a last name, and the value is the number of people whose last name begins with that letter\r\n",
        "# So in example above, the function would return:\r\n",
        "# {\"S\" : 4, \"L\": 3}\r\n",
        "# Begin by creating an empty dictionary named something like letters \r\n",
        "# Loop through the keys of names and access the first letter of each the key using key[0]\r\n",
        "# If that letter is not a key in letters, create a new key/value pair where the key is key[0] and the value is the length of names[key]\r\n",
        "# If that letter is a key in letters, simply add the length of names[key] to value associated with key[0] in letters\r\n",
        "def count_first_letter(names):\r\n",
        "  last_initials = {}\r\n",
        "  for key in names.keys():\r\n",
        "    if key[0] not in last_initials:\r\n",
        "      last_initials[key[0]] = len(names[key])\r\n",
        "    else:\r\n",
        "      last_initials[key[0]] += len(names[key])\r\n",
        "  return last_initials\r\n",
        "    \r\n",
        "\r\n",
        "print(count_first_letter({\"Stark\": [\"Ned\", \"Robb\", \"Sansa\"], \"Snow\" : [\"Jon\"], \"Lannister\": [\"Jaime\", \"Cersei\", \"Tywin\"]}))\r\n",
        "# should print {\"S\": 4, \"L\": 3}\r\n",
        "print(count_first_letter({\"Stark\": [\"Ned\", \"Robb\", \"Sansa\"], \"Snow\" : [\"Jon\"], \"Sannister\": [\"Jaime\", \"Cersei\", \"Tywin\"]}))\r\n",
        "# should print {\"S\": 7}"
      ],
      "execution_count": 6,
      "outputs": [
        {
          "output_type": "stream",
          "text": [
            "{'S': 4, 'L': 3}\n",
            "{'S': 7}\n"
          ],
          "name": "stdout"
        }
      ]
    }
  ]
}